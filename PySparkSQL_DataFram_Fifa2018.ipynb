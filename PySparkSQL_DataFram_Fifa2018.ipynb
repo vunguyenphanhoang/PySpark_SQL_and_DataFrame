{
 "cells": [
  {
   "cell_type": "markdown",
   "metadata": {},
   "source": [
    "# Cho tập tin Fifa2018_dataset.csv"
   ]
  },
  {
   "cell_type": "code",
   "execution_count": 1,
   "metadata": {},
   "outputs": [],
   "source": [
    "import pyspark\n",
    "from pyspark import SparkContext\n",
    "\n",
    "sc = SparkContext(master='local', appName = 'Spark context')"
   ]
  },
  {
   "cell_type": "code",
   "execution_count": 2,
   "metadata": {},
   "outputs": [
    {
     "data": {
      "text/plain": [
       "'/Users/vunguyen/server/spark-2.4.6-bin-hadoop2.7'"
      ]
     },
     "execution_count": 2,
     "metadata": {},
     "output_type": "execute_result"
    }
   ],
   "source": [
    "import findspark\n",
    "findspark.init()\n",
    "import pyspark\n",
    "findspark.find()"
   ]
  },
  {
   "cell_type": "code",
   "execution_count": 3,
   "metadata": {},
   "outputs": [
    {
     "data": {
      "text/html": [
       "\n",
       "            <div>\n",
       "                <p><b>SparkSession - in-memory</b></p>\n",
       "                \n",
       "        <div>\n",
       "            <p><b>SparkContext</b></p>\n",
       "\n",
       "            <p><a href=\"http://10.1.87.56:4040\">Spark UI</a></p>\n",
       "\n",
       "            <dl>\n",
       "              <dt>Version</dt>\n",
       "                <dd><code>v2.4.6</code></dd>\n",
       "              <dt>Master</dt>\n",
       "                <dd><code>local</code></dd>\n",
       "              <dt>AppName</dt>\n",
       "                <dd><code>Spark context</code></dd>\n",
       "            </dl>\n",
       "        </div>\n",
       "        \n",
       "            </div>\n",
       "        "
      ],
      "text/plain": [
       "<pyspark.sql.session.SparkSession at 0x7f800b862810>"
      ]
     },
     "execution_count": 3,
     "metadata": {},
     "output_type": "execute_result"
    }
   ],
   "source": [
    "from pyspark import SparkContext, SparkConf\n",
    "from pyspark.sql import SparkSession\n",
    "'''\n",
    "conf= pyspark.SparkConf().setAppName('tets_app').setMaster('local')\n",
    "sc=pyspark.SparkContext(conf=conf)\n",
    "sc\n",
    "'''\n",
    "\n",
    "#sc= SparkContext()\n",
    "spark = (SparkSession\n",
    "         .builder\n",
    "         .appName('Session Spark App')\n",
    "         .getOrCreate())\n",
    "spark"
   ]
  },
  {
   "cell_type": "markdown",
   "metadata": {},
   "source": [
    "1. Đọc file Fifa2018_dataset.csv"
   ]
  },
  {
   "cell_type": "code",
   "execution_count": 4,
   "metadata": {},
   "outputs": [],
   "source": [
    "fifa_df = spark.read.csv('File/Fifa2018_dataset.csv', header = True, inferSchema=True)"
   ]
  },
  {
   "cell_type": "markdown",
   "metadata": {},
   "source": [
    "2. in schema. Hiển thị 2 dòng đầu tiên, cho biết file có bao nhiêu dòng"
   ]
  },
  {
   "cell_type": "code",
   "execution_count": 5,
   "metadata": {},
   "outputs": [
    {
     "name": "stdout",
     "output_type": "stream",
     "text": [
      "Row(_c0=0, Name='Cristiano Ronaldo', Age=32, Photo='https://cdn.sofifa.org/48/18/players/20801.png', Nationality='Portugal', Flag='https://cdn.sofifa.org/flags/38.png', Overall=94, Potential=94, Club='Real Madrid CF', Club Logo='https://cdn.sofifa.org/24/18/teams/243.png', Value='€95.5M', Wage='€565K', Special=2228, Acceleration='89', Aggression='63', Agility='89', Balance='63', Ball control='93', Composure='95', Crossing='85', Curve='81', Dribbling='91', Finishing='94', Free kick accuracy='76', GK diving='7', GK handling='11', GK kicking='15', GK positioning='14', GK reflexes='11', Heading accuracy='88', Interceptions='29', Jumping='95', Long passing='77', Long shots='92', Marking='22', Penalties='85', Positioning='95', Reactions='96', Short passing='83', Shot power='94', Sliding tackle='23', Sprint speed='91', Stamina='92', Standing tackle='31', Strength='80', Vision='85', Volleys='88', CAM=89.0, CB=53.0, CDM=62.0, CF=91.0, CM=82.0, ID=20801, LAM=89.0, LB=61.0, LCB=53.0, LCM=82.0, LDM=62.0, LF=91.0, LM=89.0, LS=92.0, LW=91.0, LWB=66.0, Preferred Positions='ST LW ', RAM=89.0, RB=61.0, RCB=53.0, RCM=82.0, RDM=62.0, RF=91.0, RM=89.0, RS=92.0, RW=91.0, RWB=66.0, ST=92.0)\n",
      "\n",
      "\n",
      "Row(_c0=1, Name='L. Messi', Age=30, Photo='https://cdn.sofifa.org/48/18/players/158023.png', Nationality='Argentina', Flag='https://cdn.sofifa.org/flags/52.png', Overall=93, Potential=93, Club='FC Barcelona', Club Logo='https://cdn.sofifa.org/24/18/teams/241.png', Value='€105M', Wage='€565K', Special=2154, Acceleration='92', Aggression='48', Agility='90', Balance='95', Ball control='95', Composure='96', Crossing='77', Curve='89', Dribbling='97', Finishing='95', Free kick accuracy='90', GK diving='6', GK handling='11', GK kicking='15', GK positioning='14', GK reflexes='8', Heading accuracy='71', Interceptions='22', Jumping='68', Long passing='87', Long shots='88', Marking='13', Penalties='74', Positioning='93', Reactions='95', Short passing='88', Shot power='85', Sliding tackle='26', Sprint speed='87', Stamina='73', Standing tackle='28', Strength='59', Vision='90', Volleys='85', CAM=92.0, CB=45.0, CDM=59.0, CF=92.0, CM=84.0, ID=158023, LAM=92.0, LB=57.0, LCB=45.0, LCM=84.0, LDM=59.0, LF=92.0, LM=90.0, LS=88.0, LW=91.0, LWB=62.0, Preferred Positions='RW ', RAM=92.0, RB=57.0, RCB=45.0, RCM=84.0, RDM=59.0, RF=92.0, RM=90.0, RS=88.0, RW=91.0, RWB=62.0, ST=88.0)\n",
      "\n",
      "\n"
     ]
    }
   ],
   "source": [
    "for row in fifa_df.head(2):\n",
    "    print(row)\n",
    "    print('\\n')"
   ]
  },
  {
   "cell_type": "code",
   "execution_count": 6,
   "metadata": {},
   "outputs": [
    {
     "name": "stdout",
     "output_type": "stream",
     "text": [
      "Number of rows in dataframe: 17981\n"
     ]
    }
   ],
   "source": [
    "print('Number of rows in dataframe: {}'.format(fifa_df.count()) )"
   ]
  },
  {
   "cell_type": "markdown",
   "metadata": {},
   "source": [
    "3. Tạo view"
   ]
  },
  {
   "cell_type": "code",
   "execution_count": 7,
   "metadata": {},
   "outputs": [],
   "source": [
    "fifa_df.createOrReplaceTempView('fifa_view')"
   ]
  },
  {
   "cell_type": "markdown",
   "metadata": {},
   "source": [
    "4. thực hiện querry sql dể lấy col Age của các vdv 'Germany'. Hiển thị 3 dòng đầu, in thống kê"
   ]
  },
  {
   "cell_type": "code",
   "execution_count": 8,
   "metadata": {},
   "outputs": [],
   "source": [
    "query = '''SELECT Age FROM fifa_view WHERE Nationality == \"Germany\"'''\n",
    "fifa_germany_age = spark.sql(query)"
   ]
  },
  {
   "cell_type": "code",
   "execution_count": 9,
   "metadata": {},
   "outputs": [
    {
     "name": "stdout",
     "output_type": "stream",
     "text": [
      "+---+\n",
      "|Age|\n",
      "+---+\n",
      "| 31|\n",
      "| 27|\n",
      "| 28|\n",
      "| 28|\n",
      "| 28|\n",
      "| 27|\n",
      "| 28|\n",
      "| 25|\n",
      "| 25|\n",
      "| 26|\n",
      "| 23|\n",
      "| 24|\n",
      "| 25|\n",
      "| 30|\n",
      "| 28|\n",
      "| 21|\n",
      "| 29|\n",
      "| 21|\n",
      "| 21|\n",
      "| 21|\n",
      "+---+\n",
      "only showing top 20 rows\n",
      "\n"
     ]
    }
   ],
   "source": [
    "fifa_germany_age.show()"
   ]
  },
  {
   "cell_type": "code",
   "execution_count": 10,
   "metadata": {},
   "outputs": [
    {
     "name": "stdout",
     "output_type": "stream",
     "text": [
      "+-------+-----------------+\n",
      "|summary|              Age|\n",
      "+-------+-----------------+\n",
      "|  count|             1140|\n",
      "|   mean|24.20263157894737|\n",
      "| stddev|4.197096712293756|\n",
      "|    min|               16|\n",
      "|    max|               36|\n",
      "+-------+-----------------+\n",
      "\n"
     ]
    }
   ],
   "source": [
    "fifa_germany_age.describe().show()"
   ]
  },
  {
   "cell_type": "code",
   "execution_count": 11,
   "metadata": {},
   "outputs": [],
   "source": [
    "fifa_germany_age_pandas = fifa_germany_age.toPandas()"
   ]
  },
  {
   "cell_type": "code",
   "execution_count": 12,
   "metadata": {},
   "outputs": [],
   "source": [
    "import matplotlib.pyplot as plt"
   ]
  },
  {
   "cell_type": "markdown",
   "metadata": {},
   "source": [
    "5. Trực quan hoá, nhận xét biểu đồ\n",
    "\n",
    "Hầu hết các vdv có độ tuổi từ 25-30. số lượng vdv từ 20-25 là cao nhất, có thể thấy độ tuổi vdv trung bình khá trẻ"
   ]
  },
  {
   "cell_type": "code",
   "execution_count": 13,
   "metadata": {},
   "outputs": [
    {
     "data": {
      "image/png": "[encoded data removed]",
      "text/plain": [
       "<Figure size 432x288 with 1 Axes>"
      ]
     },
     "metadata": {
      "needs_background": "light"
     },
     "output_type": "display_data"
    }
   ],
   "source": [
    "fifa_germany_age_pandas.plot(kind='density')\n",
    "plt.show()"
   ]
  },
  {
   "cell_type": "markdown",
   "metadata": {},
   "source": [
    "6. Cho biết mỗi độ tuổi có bao nhiêu cầu thủ. Độ tuổi tb của mỗi quốc gia là bao nhiêu?"
   ]
  },
  {
   "cell_type": "code",
   "execution_count": 14,
   "metadata": {},
   "outputs": [
    {
     "name": "stdout",
     "output_type": "stream",
     "text": [
      "+---+-----+\n",
      "|Age|count|\n",
      "+---+-----+\n",
      "| 31|  671|\n",
      "| 34|  272|\n",
      "| 28| 1051|\n",
      "| 26| 1202|\n",
      "| 27| 1152|\n",
      "| 44|    2|\n",
      "| 22| 1324|\n",
      "| 47|    1|\n",
      "| 16|   13|\n",
      "| 20| 1245|\n",
      "| 40|    8|\n",
      "| 19| 1069|\n",
      "| 41|    3|\n",
      "| 43|    2|\n",
      "| 37|   69|\n",
      "| 17|  258|\n",
      "| 35|  191|\n",
      "| 39|   20|\n",
      "| 23| 1394|\n",
      "| 38|   36|\n",
      "+---+-----+\n",
      "only showing top 20 rows\n",
      "\n"
     ]
    }
   ],
   "source": [
    "fifa_df.groupBy('Age').count().show()"
   ]
  },
  {
   "cell_type": "code",
   "execution_count": 15,
   "metadata": {},
   "outputs": [
    {
     "name": "stdout",
     "output_type": "stream",
     "text": [
      "+--------------+------------------+\n",
      "|   Nationality|          avg(Age)|\n",
      "+--------------+------------------+\n",
      "|          Chad|              25.0|\n",
      "|        Russia| 25.23202614379085|\n",
      "|      Paraguay| 26.10144927536232|\n",
      "|       Senegal|25.046511627906977|\n",
      "|        Sweden|25.119565217391305|\n",
      "|        Guyana|              28.0|\n",
      "|       Eritrea|              32.0|\n",
      "|   Philippines|25.666666666666668|\n",
      "|          Fiji|              29.0|\n",
      "|        Turkey|25.127147766323024|\n",
      "|          Iraq|              26.0|\n",
      "|       Germany| 24.20263157894737|\n",
      "|St Kitts Nevis|26.666666666666668|\n",
      "|       Comoros| 27.11111111111111|\n",
      "|   Afghanistan|              22.0|\n",
      "|   Ivory Coast| 24.10891089108911|\n",
      "|         Sudan|              22.5|\n",
      "|        France|24.634969325153374|\n",
      "|        Greece|24.418367346938776|\n",
      "|        Kosovo|           23.9375|\n",
      "+--------------+------------------+\n",
      "only showing top 20 rows\n",
      "\n"
     ]
    }
   ],
   "source": [
    "fifa_df.groupBy('Nationality').avg('Age').show()"
   ]
  },
  {
   "cell_type": "markdown",
   "metadata": {},
   "source": [
    "7. Age/Strength lớn/nhỏ nhất của mỗi quốc gia"
   ]
  },
  {
   "cell_type": "code",
   "execution_count": 17,
   "metadata": {},
   "outputs": [
    {
     "name": "stdout",
     "output_type": "stream",
     "text": [
      "+--------------+--------+--------+-------------+-------------+\n",
      "|   Nationality|min(Age)|max(Age)|min(Strength)|max(Strength)|\n",
      "+--------------+--------+--------+-------------+-------------+\n",
      "|          Chad|      24|      26|           73|           79|\n",
      "|      Paraguay|      18|      37|           33|           91|\n",
      "|        Russia|      17|      37|           26|           93|\n",
      "|       Senegal|      18|      34|           37|           94|\n",
      "|        Sweden|      17|      37|           21|           91|\n",
      "|        Guyana|      25|      34|           47|           75|\n",
      "|       Eritrea|      32|      32|           85|           85|\n",
      "|   Philippines|      22|      28|           42|           76|\n",
      "|          Fiji|      29|      29|           57|           57|\n",
      "|        Turkey|      17|      39|           30|           90|\n",
      "|          Iraq|      21|      30|           55|           86|\n",
      "|       Germany|      16|      36|           28|           94|\n",
      "|St Kitts Nevis|      23|      32|           32|           84|\n",
      "|       Comoros|      23|      32|           28|           82|\n",
      "|   Afghanistan|      19|      27|           40|           58|\n",
      "|   Ivory Coast|      17|      34|           38|           92|\n",
      "|         Sudan|      22|      23|           41|           62|\n",
      "|        France|      16|      40|           26|           93|\n",
      "|        Greece|      18|      38|           32|           91|\n",
      "|        Kosovo|      18|      33|           30|           90|\n",
      "+--------------+--------+--------+-------------+-------------+\n",
      "only showing top 20 rows\n",
      "\n"
     ]
    }
   ],
   "source": [
    "from pyspark.sql import functions as F\n",
    "fifa_df.groupBy('Nationality').agg(F.min('Age'),\n",
    "                                  F.max('Age'),\n",
    "                                  F.min('Strength'),\n",
    "                                  F.max('Strength')).show()"
   ]
  },
  {
   "cell_type": "markdown",
   "metadata": {},
   "source": [
    "8. Liệt kê danh sách các Club với 2 cách DataFrame và SQL"
   ]
  },
  {
   "cell_type": "code",
   "execution_count": 18,
   "metadata": {},
   "outputs": [
    {
     "name": "stdout",
     "output_type": "stream",
     "text": [
      "+--------------------+\n",
      "|                Club|\n",
      "+--------------------+\n",
      "|             Palermo|\n",
      "|         Yeovil Town|\n",
      "|  1. FC Union Berlin|\n",
      "|  Santiago Wanderers|\n",
      "|               Carpi|\n",
      "|Evkur Yeni Malaty...|\n",
      "|          Sagan Tosu|\n",
      "|            FC Basel|\n",
      "|  Argentinos Juniors|\n",
      "|       Karlsruher SC|\n",
      "|  Lorca Deportiva CF|\n",
      "|     SC Paderborn 07|\n",
      "|     Cheltenham Town|\n",
      "|San Lorenzo de Al...|\n",
      "|         SC Freiburg|\n",
      "|  SpVgg Unterhaching|\n",
      "|Atletico Nacional...|\n",
      "|Universidad Católica|\n",
      "|         GFC Ajaccio|\n",
      "|           FC Luzern|\n",
      "+--------------------+\n",
      "only showing top 20 rows\n",
      "\n"
     ]
    }
   ],
   "source": [
    "fifa_df.select('Club').distinct().show()"
   ]
  },
  {
   "cell_type": "code",
   "execution_count": 20,
   "metadata": {},
   "outputs": [
    {
     "name": "stdout",
     "output_type": "stream",
     "text": [
      "+--------------------+\n",
      "|                Club|\n",
      "+--------------------+\n",
      "|             Palermo|\n",
      "|         Yeovil Town|\n",
      "|  1. FC Union Berlin|\n",
      "|  Santiago Wanderers|\n",
      "|               Carpi|\n",
      "|Evkur Yeni Malaty...|\n",
      "|          Sagan Tosu|\n",
      "|            FC Basel|\n",
      "|  Argentinos Juniors|\n",
      "|       Karlsruher SC|\n",
      "|  Lorca Deportiva CF|\n",
      "|     SC Paderborn 07|\n",
      "|     Cheltenham Town|\n",
      "|San Lorenzo de Al...|\n",
      "|         SC Freiburg|\n",
      "|  SpVgg Unterhaching|\n",
      "|Atletico Nacional...|\n",
      "|Universidad Católica|\n",
      "|         GFC Ajaccio|\n",
      "|           FC Luzern|\n",
      "+--------------------+\n",
      "only showing top 20 rows\n",
      "\n"
     ]
    }
   ],
   "source": [
    "query = '''SELECT DISTINCT Club FROM fifa_view'''\n",
    "fifa_clubs = spark.sql(query)\n",
    "fifa_clubs.show()"
   ]
  },
  {
   "cell_type": "markdown",
   "metadata": {},
   "source": [
    "9. Sắp xếp data giảm dần theo Age"
   ]
  },
  {
   "cell_type": "code",
   "execution_count": 21,
   "metadata": {},
   "outputs": [],
   "source": [
    "fifa_df_desc = fifa_df.orderBy(fifa_df['Age'].desc())"
   ]
  },
  {
   "cell_type": "code",
   "execution_count": 22,
   "metadata": {},
   "outputs": [
    {
     "name": "stdout",
     "output_type": "stream",
     "text": [
      "+-------------+---+--------+\n",
      "|         Name|Age|Strength|\n",
      "+-------------+---+--------+\n",
      "|B. Richardson| 47|      47|\n",
      "| E. El Hadary| 44|      73|\n",
      "|     O. Pérez| 44|      66|\n",
      "+-------------+---+--------+\n",
      "only showing top 3 rows\n",
      "\n"
     ]
    }
   ],
   "source": [
    "fifa_df_desc.select('Name','Age','Strength').show(3)"
   ]
  },
  {
   "cell_type": "markdown",
   "metadata": {},
   "source": [
    "10. Có bao nhiêu cầu thủ Name có 'Cristiano' theo 2 cách với DataFrame và SQL"
   ]
  },
  {
   "cell_type": "code",
   "execution_count": 23,
   "metadata": {},
   "outputs": [
    {
     "data": {
      "text/plain": [
       "3"
      ]
     },
     "execution_count": 23,
     "metadata": {},
     "output_type": "execute_result"
    }
   ],
   "source": [
    "people_with_Cristiano = fifa_df.where(fifa_df['Name'].contains('Cristiano'))\n",
    "people_with_Cristiano.count()"
   ]
  },
  {
   "cell_type": "code",
   "execution_count": 24,
   "metadata": {},
   "outputs": [
    {
     "name": "stdout",
     "output_type": "stream",
     "text": [
      "+-----------------+\n",
      "|             Name|\n",
      "+-----------------+\n",
      "|Cristiano Ronaldo|\n",
      "|        Cristiano|\n",
      "|        Cristiano|\n",
      "+-----------------+\n",
      "\n"
     ]
    }
   ],
   "source": [
    "people_with_Cristiano.select('Name').show()"
   ]
  },
  {
   "cell_type": "code",
   "execution_count": 25,
   "metadata": {},
   "outputs": [
    {
     "data": {
      "text/plain": [
       "3"
      ]
     },
     "execution_count": 25,
     "metadata": {},
     "output_type": "execute_result"
    }
   ],
   "source": [
    "query = '''SELECT * FROM fifa_view WHERE Name like \"%Cristiano%\"'''\n",
    "people_with_Cristiano_2 = spark.sql(query)\n",
    "people_with_Cristiano_2.count()"
   ]
  },
  {
   "cell_type": "code",
   "execution_count": 26,
   "metadata": {},
   "outputs": [
    {
     "name": "stdout",
     "output_type": "stream",
     "text": [
      "+-----------------+\n",
      "|             Name|\n",
      "+-----------------+\n",
      "|Cristiano Ronaldo|\n",
      "|        Cristiano|\n",
      "|        Cristiano|\n",
      "+-----------------+\n",
      "\n"
     ]
    }
   ],
   "source": [
    "people_with_Cristiano_2.select('Name').show()"
   ]
  },
  {
   "cell_type": "code",
   "execution_count": null,
   "metadata": {},
   "outputs": [],
   "source": []
  }
 ],
 "metadata": {
  "kernelspec": {
   "display_name": "Python 3",
   "language": "python",
   "name": "python3"
  },
  "language_info": {
   "codemirror_mode": {
    "name": "ipython",
    "version": 3
   },
   "file_extension": ".py",
   "mimetype": "text/x-python",
   "name": "python",
   "nbconvert_exporter": "python",
   "pygments_lexer": "ipython3",
   "version": "3.7.6"
  }
 },
 "nbformat": 4,
 "nbformat_minor": 4
}
